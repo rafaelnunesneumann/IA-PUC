{
 "cells": [
  {
   "cell_type": "code",
   "execution_count": 1,
   "metadata": {},
   "outputs": [
    {
     "name": "stdout",
     "output_type": "stream",
     "text": [
      "Collecting scikit-multilearn\n",
      "  Downloading scikit_multilearn-0.2.0-py3-none-any.whl (89 kB)\n",
      "     ---------------------------------------- 0.0/89.4 kB ? eta -:--:--\n",
      "     ---------------------------------------- 89.4/89.4 kB 2.6 MB/s eta 0:00:00\n",
      "Installing collected packages: scikit-multilearn\n",
      "Successfully installed scikit-multilearn-0.2.0\n"
     ]
    }
   ],
   "source": [
    "!pip install scikit-multilearn"
   ]
  },
  {
   "cell_type": "code",
   "execution_count": 11,
   "metadata": {},
   "outputs": [
    {
     "name": "stdout",
     "output_type": "stream",
     "text": [
      "Acurácia: 1.00\n",
      "              precision    recall  f1-score   support\n",
      "\n",
      "           0       1.00      1.00      1.00     30633\n",
      "           1       1.00      1.00      1.00     30633\n",
      "           2       1.00      1.00      1.00     30633\n",
      "           3       1.00      1.00      1.00     30633\n",
      "           4       1.00      1.00      1.00     30633\n",
      "           5       1.00      1.00      1.00     30633\n",
      "\n",
      "   micro avg       1.00      1.00      1.00    183798\n",
      "   macro avg       1.00      1.00      1.00    183798\n",
      "weighted avg       1.00      1.00      1.00    183798\n",
      " samples avg       1.00      1.00      1.00    183798\n",
      "\n"
     ]
    }
   ],
   "source": [
    "import pandas as pd\n",
    "from skmultilearn.problem_transform import BinaryRelevance\n",
    "from sklearn.model_selection import train_test_split\n",
    "from sklearn.feature_extraction.text import TfidfVectorizer\n",
    "from sklearn.ensemble import RandomForestClassifier\n",
    "from sklearn.metrics import accuracy_score, classification_report\n",
    "\n",
    "data = pd.read_csv('sample_submission.csv')\n",
    "\n",
    "# Convertendo rótulos contínuos para binários\n",
    "cols_to_transform = ['toxic', 'severe_toxic', 'obscene', 'threat', 'insult', 'identity_hate']\n",
    "data[cols_to_transform] = data[cols_to_transform].applymap(lambda x: 1 if x >= 0.5 else 0)\n",
    "\n",
    "# Vetorização de Texto\n",
    "vectorizer = TfidfVectorizer(max_features=5000)\n",
    "X = vectorizer.fit_transform(data['id'].astype(str))\n",
    "\n",
    "# Dividindo os dados\n",
    "X_train, X_test, y_train, y_test = train_test_split(X, data[cols_to_transform], test_size=0.2, random_state=42)\n",
    "\n",
    "# Treinamento do Classificador\n",
    "classifier = BinaryRelevance(classifier=RandomForestClassifier(), require_dense=[True, True])\n",
    "classifier.fit(X_train, y_train)\n",
    "\n",
    "# Previsões e Avaliação\n",
    "predictions = classifier.predict(X_test)\n",
    "accuracy = accuracy_score(y_test, predictions)\n",
    "print(f'Acurácia: {accuracy:.2f}')\n",
    "print(classification_report(y_test, predictions))\n"
   ]
  }
 ],
 "metadata": {
  "kernelspec": {
   "display_name": "base",
   "language": "python",
   "name": "python3"
  },
  "language_info": {
   "codemirror_mode": {
    "name": "ipython",
    "version": 3
   },
   "file_extension": ".py",
   "mimetype": "text/x-python",
   "name": "python",
   "nbconvert_exporter": "python",
   "pygments_lexer": "ipython3",
   "version": "3.11.4"
  }
 },
 "nbformat": 4,
 "nbformat_minor": 2
}
